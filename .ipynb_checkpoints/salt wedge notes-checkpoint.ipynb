{
 "cells": [
  {
   "cell_type": "markdown",
   "metadata": {},
   "source": [
    "The notes below are transcribed from **Geyer and Ralston 2011, Chapter 2: Dynamics of Strongly Stratified Estuaries**.\n",
    "\n",
    "\n",
    "## Two layer conservation equations\n",
    "\n",
    "Consider two layer, shallow water flow.\n",
    "\n",
    "Conservation equations:\n",
    "\n",
    "$$\n",
    "B\\frac{\\partial h_1}{\\partial t} + \\frac{\\partial Q_1}{\\partial x} = 0\\\\\n",
    "B\\frac{\\partial h_2}{\\partial t} + \\frac{\\partial Q_2}{\\partial x} = 0\n",
    "$$\n",
    "\n",
    "Momentum equations:\n",
    "\n",
    "$$\n",
    "\\frac{\\partial u_1}{\\partial t} + u_1\\,\\frac{\\partial u_1}{\\partial x} + g\\,\\frac{\\partial \\eta}{\\partial x} + \\frac{C_i\\,|u_1-u_2|(u_1-u_2)}{h_1} = 0\n",
    "$$\n",
    "\n",
    "$$\n",
    "\\frac{\\partial u_2}{\\partial t} + u_2\\,\\frac{\\partial u_2}{\\partial x} + g\\,\\frac{\\partial \\eta}{\\partial x} + g'\\,\\frac{\\partial h_i}{\\partial x} - \\frac{C_i\\,|u_1-u_2|(u_1-u_2)}{h_1} + \\frac{C_d\\,|u_2|u_2}{h_2} = 0 \n",
    "$$\n",
    "\n",
    "Get baroclinic dynamics by subtracting top momentum equation from bottom momentum equation:\n",
    "$$\n",
    "\\frac{\\partial (u_2 - u_1)}{\\partial t} + u_2\\,\\frac{\\partial u_2}{\\partial x} - u_1\\,\\frac{\\partial u_1}{\\partial x} + g'\\,\\frac{\\partial h_i}{\\partial x}  - C_i\\,|u_1-u_2|(u_1-u_2)\\left(\\frac{1}{h_1} + \\frac{1}{h_2}\\right) + \\frac{C_d\\,|u_2|u_2}{h_2} = 0\n",
    "$$\n",
    "\n",
    "Define froude number for top and bottom layer\n",
    "$$\n",
    "F_1^2 = \\frac{Q_1^2}{g'\\,B^2\\,h_1^3}\\\\\n",
    "F_2^2 = \\frac{Q_2^2}{g'\\,B^2\\,h_2^3}\n",
    "$$\n",
    "\n",
    "Sum of the above is the composite Froude number: $G^2 = F_1^2 + F_2^2$. For $G<1$ long internal waves can travel in both directions. For $G>1$, internal waves can only go downstream, where downstream is defined as the flow with wthe greater Froude number. Therefore $G=1$ is the critical compositite Froude number.\n"
   ]
  },
  {
   "cell_type": "markdown",
   "metadata": {},
   "source": [
    "With the above definitions for Froude number (and assuming surface height variations are small compared to variations in the sea bed), we can reformulate the baroclinic momentum equation as:\n",
    "\n",
    "$$\n",
    "\\frac{1}{g'}\\,\\frac{\\partial}{\\partial t}(u_2 - u_1)  + (1 - F_1^2 - F_2^2)\\,\\frac{\\partial h_1}{\\partial x} =\\\\\n",
    "-F_2^2\\left(\\frac{\\partial h_b}{\\partial x} \\pm C_D\\right) - \\frac{F_1^2\\,h_1 - F_2^2\\,h_2}{B}\\,\\frac{\\partial B}{\\partial x}\\\\\n",
    "\\pm\\,C_i\\,F_{\\Delta}^2 + \\frac{1}{g'}\\,\\left(\\frac{u_2}{h_2} + \\frac{u_1}{h_1}\\right)\\,\\frac{\\partial h_1}{\\partial t}\n",
    "$$\n",
    "\n",
    "where \n",
    "$$\n",
    "F_{\\Delta}^2 = \\frac{u_1 - u_2)^2}{g'\\,h'}\\,\\,,h' = h_1\\,h_2/(h_1 + h_2)\n",
    "$$"
   ]
  },
  {
   "cell_type": "markdown",
   "metadata": {},
   "source": [
    "## Plume Lift off\n",
    "\n",
    "Consider steady flow with stagnant (or absent) bottom layer. In this case, baroclinic momentum equation reduces to:\n",
    "\n",
    "$$\n",
    "\\frac{\\partial h_i}{\\partial x} = - \\frac{F_1^2}{1-F_1^2}\\,\\frac{h_1}{B}\\,\\frac{\\partial B}{\\partial x}\n",
    "$$\n",
    "\n",
    "For a large enough $Q_1$ or small enough $h_1$, the flow becomes super critical. Critical thickness is obtained by re-arranging Froude number:\n",
    "\n",
    "$$\n",
    "h=h_{1C}=\\left(\\frac{Q_1^2}{B^2\\,g'} \\right)^{1/3}\n",
    "$$\n",
    "\n",
    "\n",
    "If $h_{1C} > h_1 + h_2 = h_0$, entire channel is filled with supercritical turbulent water.\n",
    "\n",
    "\n",
    "## Steady-state wedge\n",
    "\n",
    "Now consider the wedge regime under the same conditions as before. In this case, the baroclinic momentum equation reduces to balance between the slope of the wedge and the acceleration (or drag) by the fast flowing top layer:\n",
    "\n",
    "$$\n",
    "\\frac{\\partial h_i}{\\partial x} = \\pm\\,C_i\\,\\frac{F_1^2}{1-F_1^2}\\,\\frac{h_0}{h_2}\n",
    "$$\n",
    "\n",
    "In this case, we assume a flat bottom and constant width. The slope gradient become infinite where $h_2=0$ and $F_1=1$. $h_2=0$ occurs where the interface intersects the bed. $F_1=1$ occurs where the top layer transitions to a flat thin layer - not sure if I understand this."
   ]
  },
  {
   "cell_type": "markdown",
   "metadata": {},
   "source": [
    "Let's model the steady state wedge equation. First recall the definition of the Froude number:\n",
    "\n",
    "$$\n",
    "F_1^2 = \\frac{Q_1^2}{g'\\,B^2\\,h_1^3} = \\frac{(u_1\\,B\\,h_1)^2}{\\beta\\,\\Delta S\\,B^2\\,h_1^3}\\\\ \n",
    "F_1^2 = \\frac{u_1^2}{\\beta\\,S_2\\,h_1}\n",
    "$$\n",
    "\n",
    "Here we assume layer 1 has a salinity of 0psu, such that $\\Delta S = S_2$. Following our earlier assumption that suface height variations are small and the bottom slope is flat, we can state \n",
    "\n",
    "$$\n",
    "\\frac{\\partial h_i}{\\partial x} = \\frac{\\partial h_2}{\\partial x} = -\\frac{\\partial h_1}{\\partial x}\n",
    "$$"
   ]
  },
  {
   "cell_type": "code",
   "execution_count": 81,
   "metadata": {
    "collapsed": false
   },
   "outputs": [],
   "source": [
    "import numpy as np\n",
    "\n",
    "#flow parameters following example in Geyer and Ralston\n",
    "H = 10 # total water height (m)\n",
    "s2 = 25 #wedge salinity (psu)\n",
    "s1 = 0 #freshwater salinity\n",
    "ds = s2-s1\n",
    "C_i = 10e-4 \n",
    "u1 = np.arange(0.3, 1.21, 0.1) #m/s\n",
    "beta = 0.8e-3 #haline contraction co-eff (1/psu)\n",
    "\n",
    "#define initial h1 so that Froude number = 0.9999\n",
    "F1 = 0.9999\n",
    "h1_0 = u1[0]**2/(F1*ds*beta) \n",
    "h2_0 = H-h1_0"
   ]
  },
  {
   "cell_type": "code",
   "execution_count": 90,
   "metadata": {
    "collapsed": false
   },
   "outputs": [],
   "source": [
    "#define model for interface thickness:\n",
    "\n",
    "def interface_shape(t, y, u1, beta, C_i, ds, h0):\n",
    "    #t=x, y=hi=h2, assuming flat bottom\n",
    "    h1 = h0-y[0]\n",
    "    F1 = u1/np.sqrt(beta*ds*h1)\n",
    "    dh = -C_i*(F1**2/(1-F1**2))*(h0/y[0])\n",
    "    \n",
    "#     print(y[0])\n",
    "#     print(h1)\n",
    "#     print(F1)\n",
    "#     print(dh)\n",
    "#     print(ds)\n",
    "    return [dh]"
   ]
  },
  {
   "cell_type": "code",
   "execution_count": 96,
   "metadata": {
    "collapsed": false
   },
   "outputs": [],
   "source": [
    "#integrate model\n",
    "\n",
    "from scipy.integrate import odeint\n",
    "import scipy.integrate as spi\n",
    "\n",
    "#define initial conditions\n",
    "h2_init = np.array([h2_0]) \n",
    "x_end = 20e3 #meters\n",
    "\n",
    "#load and intialize interface model\n",
    "dx = 1 #m  \n",
    "ode =  spi.ode(interface_shape) #\n",
    "ode.set_f_params(u1[0], beta, C_i, ds, H)\n",
    "\n",
    "ode.set_integrator('lsoda')\n",
    "ode.set_initial_value(h2_init,t=0)\n",
    "\n",
    "ts = []\n",
    "ys = []\n",
    "#run ice growth model\n",
    "while ode.successful() and ode.t < x_end and ode.y[0]>0.5:\n",
    "    ode.integrate(ode.t + dx) #ode uses t \n",
    "    ts.append(ode.t)\n",
    "    ys.append(ode.y[0])\n"
   ]
  },
  {
   "cell_type": "code",
   "execution_count": 97,
   "metadata": {
    "collapsed": false
   },
   "outputs": [
    {
     "data": {
      "text/plain": [
       "61"
      ]
     },
     "execution_count": 97,
     "metadata": {},
     "output_type": "execute_result"
    }
   ],
   "source": [
    "len(ys)"
   ]
  },
  {
   "cell_type": "code",
   "execution_count": 47,
   "metadata": {
    "collapsed": false
   },
   "outputs": [
    {
     "name": "stdout",
     "output_type": "stream",
     "text": [
      "0.5\n"
     ]
    }
   ],
   "source": [
    "F1_sq = u1[0]**2/(beta*s2*9)\n",
    "print(F1_sq)"
   ]
  },
  {
   "cell_type": "code",
   "execution_count": 98,
   "metadata": {
    "collapsed": false
   },
   "outputs": [
    {
     "data": {
      "image/png": "[encoded data removed]",
      "text/plain": [
       "<matplotlib.figure.Figure at 0x1148357f0>"
      ]
     },
     "metadata": {},
     "output_type": "display_data"
    }
   ],
   "source": [
    "%matplotlib inline\n",
    "import matplotlib.pyplot as plt\n",
    "\n",
    "x = np.array(ts)\n",
    "hi = np.array(ys)\n",
    "F1 = u1[0]/np.sqrt(beta*s2*(H-hi))\n",
    "\n",
    "plt.figure(figsize=(10,6))\n",
    "plt.subplot(121)\n",
    "plt.plot(x/1000, hi, label='u1 = 0')\n",
    "plt.xlabel(\"Distance (km)\")\n",
    "plt.ylabel(\"Interface height (m)\")\n",
    "\n",
    "plt.subplot(122)\n",
    "plt.plot(x/1000, F1, label='u1 = 0')\n",
    "plt.xlabel(\"Distance (km)\")\n",
    "plt.ylabel(\"F1\")\n",
    "plt.show()"
   ]
  },
  {
   "cell_type": "code",
   "execution_count": null,
   "metadata": {
    "collapsed": true
   },
   "outputs": [],
   "source": []
  }
 ],
 "metadata": {
  "kernelspec": {
   "display_name": "Python [Root]",
   "language": "python",
   "name": "Python [Root]"
  },
  "language_info": {
   "codemirror_mode": {
    "name": "ipython",
    "version": 3
   },
   "file_extension": ".py",
   "mimetype": "text/x-python",
   "name": "python",
   "nbconvert_exporter": "python",
   "pygments_lexer": "ipython3",
   "version": "3.5.2"
  }
 },
 "nbformat": 4,
 "nbformat_minor": 0
}
