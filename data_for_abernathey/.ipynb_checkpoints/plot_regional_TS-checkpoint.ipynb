{
 "cells": [
  {
   "cell_type": "code",
   "execution_count": 1,
   "metadata": {
    "collapsed": false
   },
   "outputs": [],
   "source": [
    "import pickle\n",
    "\n",
    "# load vertices of region boxes\n",
    "region_verts = pickle.load(open(\"region_verts.p\", \"rb\"))\n",
    "\n",
    "# load T-S data\n",
    "TS_data = pickle.load(open(\"median_TS_profile_data.p\", \"rb\"))  \n",
    "\n",
    "# get list of regions\n",
    "region_names = list(region_verts.keys())"
   ]
  },
  {
   "cell_type": "markdown",
   "metadata": {},
   "source": [
    "## Map of region boxes\n",
    "\n",
    "![](region_map_set5.png)"
   ]
  },
  {
   "cell_type": "code",
   "execution_count": 2,
   "metadata": {
    "collapsed": false
   },
   "outputs": [
    {
     "ename": "FileNotFoundError",
     "evalue": "[Errno 2] No such file or directory: 'region_verts_wcols.p'",
     "output_type": "error",
     "traceback": [
      "\u001b[0;31m---------------------------------------------------------------------------\u001b[0m",
      "\u001b[0;31mFileNotFoundError\u001b[0m                         Traceback (most recent call last)",
      "\u001b[0;32m<ipython-input-2-bc7ae552a078>\u001b[0m in \u001b[0;36m<module>\u001b[0;34m()\u001b[0m\n\u001b[1;32m     22\u001b[0m \u001b[0;34m\u001b[0m\u001b[0m\n\u001b[1;32m     23\u001b[0m \u001b[0;31m# load region colors\u001b[0m\u001b[0;34m\u001b[0m\u001b[0;34m\u001b[0m\u001b[0m\n\u001b[0;32m---> 24\u001b[0;31m \u001b[0mregion_box\u001b[0m \u001b[0;34m=\u001b[0m \u001b[0mpickle\u001b[0m\u001b[0;34m.\u001b[0m\u001b[0mload\u001b[0m\u001b[0;34m(\u001b[0m\u001b[0mopen\u001b[0m\u001b[0;34m(\u001b[0m\u001b[0;34m\"region_verts_wcols.p\"\u001b[0m\u001b[0;34m,\u001b[0m \u001b[0;34m\"rb\"\u001b[0m\u001b[0;34m)\u001b[0m\u001b[0;34m)\u001b[0m\u001b[0;34m\u001b[0m\u001b[0m\n\u001b[0m\u001b[1;32m     25\u001b[0m \u001b[0;34m\u001b[0m\u001b[0m\n\u001b[1;32m     26\u001b[0m \u001b[0;31m# plot T-S profile for each region\u001b[0m\u001b[0;34m\u001b[0m\u001b[0;34m\u001b[0m\u001b[0m\n",
      "\u001b[0;31mFileNotFoundError\u001b[0m: [Errno 2] No such file or directory: 'region_verts_wcols.p'"
     ]
    }
   ],
   "source": [
    "%matplotlib inline \n",
    "\n",
    "import numpy as np\n",
    "import matplotlib.pyplot as plt\n",
    "import seawater as sw\n",
    "from addDensityContours import addDensityContours\n",
    "\n",
    "\n",
    "# load T-S data\n",
    "TS_data = pickle.load(open(\"median_TS_profile_data.p\", \"rb\"))  \n",
    "min_pres = TS_data[\"Pressure\"][0]\n",
    "\n",
    "# get index for 500db\n",
    "p500_idx = np.flatnonzero(TS_data[\"Pressure\"]==500)[0]\n",
    "\n",
    "# set axis limits\n",
    "temp_lim = [-2.5, 3]\n",
    "sal_lim = [33.5, 34.8]\n",
    "\n",
    "# plot T-S data for each region\n",
    "\n",
    "\n",
    "# load region colors\n",
    "region_box = pickle.load(open(\"region_colors.p\", \"rb\"))\n",
    "\n",
    "# plot T-S profile for each region\n",
    "plt.figure(figsize=(12, 8))\n",
    "p0_list = []  # list to collect plot handles\n",
    "for reg in region_names:\n",
    "    \n",
    "    if reg == \"Pressure\":\n",
    "        continue\n",
    "    \n",
    "    col = region_box[\"colors\"][reg]\n",
    "    \n",
    "    # plot all the data\n",
    "    p0, = plt.plot(TS_data[reg][\"Salinity\"], TS_data[reg][\"Pot-Temp\"], 'o', color=col, markersize=5, \n",
    "                   zorder=10, mec=col, label=reg, alpha=0.5)\n",
    "    \n",
    "    # add square marker to shallowest (50m) data point\n",
    "    p1, = plt.plot(TS_data[reg][\"Salinity\"][0], TS_data[reg][\"Pot-Temp\"][0], 's', mfc=\"None\", markersize=5, \n",
    "                   zorder=10, mec='k', label='%sm'%min_pres)\n",
    "        \n",
    "    # add triangle marker at 500m\n",
    "    if reg is not 'Ross_shelf':\n",
    "        p2, = plt.plot(TS_data[reg][\"Salinity\"][p500_idx], TS_data[reg][\"Pot-Temp\"][p500_idx], '^', \n",
    "                       mfc=\"None\", ms=5, zorder=10, mec='k', label='500m')\n",
    "    \n",
    "    marker_list = [p1, p2]\n",
    "    p0_list.append(p0)\n",
    "    \n",
    "# add density contours, axis labels and other stuff\n",
    "addDensityContours(plt.gca(), temp_range=temp_lim, sal_range=sal_lim, drho=0.1)\n",
    "plt.ylim(temp_lim)\n",
    "plt.xlim(sal_lim)\n",
    "plt.ylabel('Pot. Temperature ($^{\\circ}$C)')\n",
    "plt.xlabel('Salinity (PSS)')\n",
    "plt.grid(True)\n",
    "plt.title(\"Regional median temperature-salinity profile below %sm\" %min_pres)\n",
    "\n",
    "# create legend for region labels\n",
    "leg1 = plt.legend(handles=p0_list, loc=2, ncol=2, numpoints=1, fontsize=10)  \n",
    "\n",
    "# create legend for region depth labels\n",
    "plt.legend(handles=marker_list, loc=3, fontsize=10)\n",
    "plt.gca().add_artist(leg1)\n",
    "\n",
    "# save figure\n",
    "plt.savefig('regional_median_TS_profiles.pdf', bbox_inches='tight')"
   ]
  },
  {
   "cell_type": "code",
   "execution_count": null,
   "metadata": {
    "collapsed": false
   },
   "outputs": [],
   "source": [
    "print(\"Region names:\\n\")\n",
    "for region_name in region_names:\n",
    "    print(region_name)"
   ]
  },
  {
   "cell_type": "code",
   "execution_count": null,
   "metadata": {
    "collapsed": false
   },
   "outputs": [],
   "source": [
    "print(region_box)"
   ]
  }
 ],
 "metadata": {
  "kernelspec": {
   "display_name": "Python [Root]",
   "language": "python",
   "name": "Python [Root]"
  },
  "language_info": {
   "codemirror_mode": {
    "name": "ipython",
    "version": 3
   },
   "file_extension": ".py",
   "mimetype": "text/x-python",
   "name": "python",
   "nbconvert_exporter": "python",
   "pygments_lexer": "ipython3",
   "version": "3.5.2"
  }
 },
 "nbformat": 4,
 "nbformat_minor": 0
}
